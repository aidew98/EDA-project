{
  "nbformat": 4,
  "nbformat_minor": 0,
  "metadata": {
    "colab": {
      "private_outputs": true,
      "provenance": [],
      "collapsed_sections": [
        "vncDsAP0Gaoa",
        "FJNUwmbgGyua",
        "w6K7xa23Elo4",
        "yQaldy8SH6Dl",
        "mDgbUHAGgjLW",
        "3RnN4peoiCZX",
        "x71ZqKXriCWQ",
        "7hBIi_osiCS2",
        "H0kj-8xxnORC",
        "nA9Y7ga8ng1Z",
        "PBTbrJXOngz2",
        "u3PMJOP6ngxN",
        "dauF4eBmngu3",
        "bKJF3rekwFvQ",
        "MSa1f5Uengrz",
        "GF8Ens_Soomf",
        "0wOQAZs5pc--",
        "K5QZ13OEpz2H",
        "lQ7QKXXCp7Bj",
        "448CDAPjqfQr",
        "KSlN3yHqYklG",
        "t6dVpIINYklI",
        "ijmpgYnKYklI",
        "-JiQyfWJYklI",
        "EM7whBJCYoAo",
        "fge-S5ZAYoAp",
        "85gYPyotYoAp",
        "RoGjAbkUYoAp",
        "4Of9eVA-YrdM",
        "iky9q4vBYrdO",
        "F6T5p64dYrdO",
        "y-Ehk30pYrdP",
        "bamQiAODYuh1",
        "QHF8YVU7Yuh3",
        "GwzvFGzlYuh3",
        "qYpmQ266Yuh3",
        "OH-pJp9IphqM",
        "bbFf2-_FphqN",
        "_ouA3fa0phqN",
        "Seke61FWphqN",
        "PIIx-8_IphqN",
        "t27r6nlMphqO",
        "r2jJGEOYphqO",
        "b0JNsNcRphqO",
        "BZR9WyysphqO",
        "jj7wYXLtphqO",
        "eZrbJ2SmphqO",
        "rFu4xreNphqO",
        "YJ55k-q6phqO",
        "gCFgpxoyphqP",
        "OVtJsKN_phqQ",
        "lssrdh5qphqQ",
        "U2RJ9gkRphqQ",
        "1M8mcRywphqQ",
        "tgIPom80phqQ",
        "JMzcOPDDphqR",
        "x-EpHcCOp1ci",
        "X_VqEhTip1ck",
        "8zGJKyg5p1ck",
        "PVzmfK_Ep1ck",
        "n3dbpmDWp1ck",
        "ylSl6qgtp1ck",
        "ZWILFDl5p1ck",
        "M7G43BXep1ck",
        "Ag9LCva-p1cl",
        "E6MkPsBcp1cl",
        "2cELzS2fp1cl",
        "3MPXvC8up1cl",
        "NC_X3p0fY2L0",
        "UV0SzAkaZNRQ",
        "YPEH6qLeZNRQ",
        "q29F0dvdveiT",
        "EXh0U9oCveiU",
        "22aHeOlLveiV",
        "JcMwzZxoAimU",
        "8G2x9gOozGDZ",
        "gCX9965dhzqZ",
        "gIfDvo9L0UH2"
      ],
      "cell_execution_strategy": "setup",
      "gpuType": "T4",
      "include_colab_link": true
    },
    "kernelspec": {
      "name": "python3",
      "display_name": "Python 3"
    },
    "language_info": {
      "name": "python"
    }
  },
  "cells": [
    {
      "cell_type": "markdown",
      "metadata": {
        "id": "view-in-github",
        "colab_type": "text"
      },
      "source": [
        "<a href=\"https://colab.research.google.com/github/aidew98/EDA-project/blob/main/Sample_EDA_Submission_Template_by_Palashi.ipynb\" target=\"_parent\"><img src=\"https://colab.research.google.com/assets/colab-badge.svg\" alt=\"Open In Colab\"/></a>"
      ]
    },
    {
      "cell_type": "markdown",
      "source": [
        "# **Project Name**    -\n",
        "\n",
        "1. Module- Numerical programming in Python\n",
        "2. ***Project on Exploratory Data Analysis***\n",
        "\n",
        "\n"
      ],
      "metadata": {
        "id": "vncDsAP0Gaoa"
      }
    },
    {
      "cell_type": "markdown",
      "source": [
        "##### **Project Type**    - EDA\n",
        "##### **Contribution**    - Individual\n",
        "##### **Team Member 1 -** Palashi Aidew\n",
        "##### **Team Member 2 -**\n",
        "##### **Team Member 3 -**\n",
        "##### **Team Member 4 -**"
      ],
      "metadata": {
        "id": "beRrZCGUAJYm"
      }
    },
    {
      "cell_type": "markdown",
      "source": [
        "# **Project Summary -**"
      ],
      "metadata": {
        "id": "FJNUwmbgGyua"
      }
    },
    {
      "cell_type": "markdown",
      "source": [
        "I am doing this project individually.The project I have selected is The Play Store apps.I have choosen this data set as this type of data currently has enormous practical importance in each human beings' day to day life, globally a huge lot of population are regularly utilising the play store now and then to serve thier various purposes. So an indepth study in this kind of dataset will help to drive app-making businesses to success. Actionable insights can be drawn for developers to work on and capture the Android market.This project aims to leverage data analysis techniques to extract meaningful insights from Play Store app data, which can benefit both users and developers. This particular project has two data sets  to be analysed. First data set has 13 columns mainly includes diffrent app infomation, rating, size,version etc. and second data set has 5 columns and is basically covering customer reviews of the android apps. Explore and analyse the data to discover key factors responsible for app engagement and success."
      ],
      "metadata": {
        "id": "F6v_1wHtG2nS"
      }
    },
    {
      "cell_type": "markdown",
      "source": [
        "# **GitHub Link -**"
      ],
      "metadata": {
        "id": "w6K7xa23Elo4"
      }
    },
    {
      "cell_type": "markdown",
      "source": [
        "https://github.com/aidew98/EDA-project"
      ],
      "metadata": {
        "id": "h1o69JH3Eqqn"
      }
    },
    {
      "cell_type": "markdown",
      "source": [
        "There are few problem statements that I would like to answer after doing analysis of both the data sets.\n",
        "1.Whether Free and paid type has any influence in number of installations done\n",
        "2.Which category App has the highest ratings and which category App has the lowest rating ? If I can draw any conclusion which has led to lowest rating for that particular category.\n",
        "3.Which category has the highest Apps currently and which category has the lowes Apps? Action can be taken if any\n"
      ],
      "metadata": {
        "id": "yQaldy8SH6Dl"
      }
    },
    {
      "cell_type": "markdown",
      "source": [
        "In general practice, Google Play Store is a hub for  millions of apps having uncountable categories answering the needs of almost each and every person, offering an extensive range of functionalities and services,features.This on the other hand ends up resulting challenges in discovering the best apps that meet individual needs. Besides, App developers also have to striggle  to identify the factors that contribute to an app’s success in terms of downloads,installation, ratings, and user engagement etc. The study of this data set will serve as an answer for this problem"
      ],
      "metadata": {
        "id": "DpeJGUA3kjGy"
      }
    },
    {
      "cell_type": "markdown",
      "source": [
        "My Business Objective for this project ;\n",
        "1.To identify Key Factors for developing Successful Apps:\n",
        "\n",
        "a)Analyze and to come into conclusion with some attributes (e.g., category, ratings, number of reviews, size, price) which significantly impact an app's success.\n",
        "b)Analyze the correlation between some of those app attributes and their popularity ( in terms of downloads/instalation and user ratings).\n",
        "2. To analyze categorically the higher user engagement and satisfaction (by measuring ratings and reviews)\n",
        "3. To have a sentiment analysis with the help of user review and identify the areas of improvement on the basis of these findings.\n",
        "4. To identify the trend over time for app popularity"
      ],
      "metadata": {
        "id": "PH-0ReGfmX4f"
      }
    },
    {
      "cell_type": "markdown",
      "source": [
        "Answer Here."
      ],
      "metadata": {
        "id": "PhDvGCAqmjP1"
      }
    },
    {
      "cell_type": "markdown",
      "source": [
        "# **General Guidelines** : -  "
      ],
      "metadata": {
        "id": "mDgbUHAGgjLW"
      }
    },
    {
      "cell_type": "markdown",
      "source": [
        "These are the basic guidelines followed by me while working on this project.\n",
        "1.   Well-structured, formatted, and commented codes are provided .\n",
        "2.   Trying to utilise Exception Handling, Production Grade Code & Deployment Ready Code will be a plus.\n",
        "     \n",
        "     The additional credits will have advantages over other students during Star Student selection.\n",
        "       \n",
        "             [ Note: - Deployment Ready Code is defined as, the whole .ipynb notebook should be executable in one go\n",
        "                       without a single error logged. ]\n",
        "\n",
        "3.   Each and every logic should have proper comments.\n",
        "4. We may add as many number of charts as we want but  for each and every chart the following format should be answered.\n",
        "        \n",
        "\n",
        "```\n",
        "# Chart visualization code\n",
        "```\n",
        "            \n",
        "\n",
        "*   Why did you pick the specific chart?\n",
        "*   What is/are the insight(s) found from the chart?\n",
        "* Will the gained insights help creating a positive business impact?\n",
        "Are there any insights that lead to negative growth? Justify with specific reason.\n",
        "\n",
        "5. You have to create at least 20 logical & meaningful charts having important insights.\n",
        "\n",
        "\n",
        "[ Hints : - Do the Vizualization in  a structured way while following \"UBM\" Rule.\n",
        "\n",
        "U - Univariate Analysis,\n",
        "\n",
        "B - Bivariate Analysis (Numerical - Categorical, Numerical - Numerical, Categorical - Categorical)\n",
        "\n",
        "M - Multivariate Analysis\n",
        " ]\n",
        "\n",
        "\n",
        "\n"
      ],
      "metadata": {
        "id": "ZrxVaUj-hHfC"
      }
    },
    {
      "cell_type": "markdown",
      "source": [
        "# ***Let's Begin !***"
      ],
      "metadata": {
        "id": "O_i_v8NEhb9l"
      }
    },
    {
      "cell_type": "markdown",
      "source": [
        "## ***1. Know Your Data***"
      ],
      "metadata": {
        "id": "HhfV-JJviCcP"
      }
    },
    {
      "cell_type": "markdown",
      "source": [
        "### Import Libraries"
      ],
      "metadata": {
        "id": "Y3lxredqlCYt"
      }
    },
    {
      "cell_type": "code",
      "source": [
        "# Import Libraries\n",
        "import pandas as pd\n",
        "import numpy as np\n",
        "import matplotlib.pyplot as plt\n",
        "import seaborn as sns\n",
        "sns.set()"
      ],
      "metadata": {
        "id": "M8Vqi-pPk-HR"
      },
      "execution_count": null,
      "outputs": []
    },
    {
      "cell_type": "code",
      "source": [
        "from google.colab import drive\n",
        "drive.mount('/content/drive')"
      ],
      "metadata": {
        "id": "VquVtGZXZA4p"
      },
      "execution_count": null,
      "outputs": []
    },
    {
      "cell_type": "markdown",
      "source": [
        "### Dataset Loading"
      ],
      "metadata": {
        "id": "3RnN4peoiCZX"
      }
    },
    {
      "cell_type": "code",
      "source": [
        "# Load Dataset\n",
        "df = pd.read_csv('/content/drive/MyDrive/Play Store Data.csv')\n",
        "df1 = pd.read_csv('/content/drive/MyDrive/User Reviews.csv')\n",
        "\n"
      ],
      "metadata": {
        "id": "4CkvbW_SlZ_R"
      },
      "execution_count": null,
      "outputs": []
    },
    {
      "cell_type": "markdown",
      "source": [
        "### Dataset First View"
      ],
      "metadata": {
        "id": "x71ZqKXriCWQ"
      }
    },
    {
      "cell_type": "code",
      "source": [
        "# Dataset First Look\n",
        "df.head()\n"
      ],
      "metadata": {
        "id": "LWNFOSvLl09H"
      },
      "execution_count": null,
      "outputs": []
    },
    {
      "source": [
        "# @title Type vs Installs using heatmap\n",
        "#shows relationship between installation count and type of app(free or paid)\n",
        "#in free type more installations are there\n",
        "\n",
        "\n",
        "from matplotlib import pyplot as plt\n",
        "import seaborn as sns\n",
        "import pandas as pd\n",
        "plt.subplots(figsize=(8, 8))\n",
        "df_2dhist = pd.DataFrame({\n",
        "    x_label: grp['Installs'].value_counts()\n",
        "    for x_label, grp in df.groupby('Type')\n",
        "})\n",
        "sns.heatmap(df_2dhist, cmap='viridis')\n",
        "plt.xlabel('Type')\n",
        "_ = plt.ylabel('Installs')"
      ],
      "cell_type": "code",
      "execution_count": null,
      "outputs": [],
      "metadata": {
        "id": "v5JfXp-O8q4X"
      }
    },
    {
      "source": [
        "# @title Type\n",
        "\n",
        "from matplotlib import pyplot as plt\n",
        "import seaborn as sns\n",
        "df.groupby('Type').size().plot(kind='barh', color=sns.palettes.mpl_palette('Dark2'))\n",
        "plt.gca().spines[['top', 'right',]].set_visible(False)"
      ],
      "cell_type": "code",
      "execution_count": null,
      "outputs": [],
      "metadata": {
        "id": "JytheTCy8Pzf"
      }
    },
    {
      "source": [
        "# @title Rating-I have used histogram to check the peak of the frequency of user rating\n",
        "#As frequency and rating are contineous variables, so histogram is used here\n",
        "#it is showing general distributional features of these two attributes\n",
        "\n",
        "from matplotlib import pyplot as plt\n",
        "df['Rating'].plot(kind='hist', bins=20, title='Rating')\n",
        "plt.gca().spines[['top', 'right',]].set_visible(False)"
      ],
      "cell_type": "code",
      "execution_count": null,
      "outputs": [],
      "metadata": {
        "id": "ta-wT3dMya7r"
      }
    },
    {
      "cell_type": "code",
      "source": [],
      "metadata": {
        "id": "G8DM4uSQtjm2"
      },
      "execution_count": null,
      "outputs": []
    },
    {
      "cell_type": "code",
      "source": [],
      "metadata": {
        "id": "VAqiZl0brbOe"
      },
      "execution_count": null,
      "outputs": []
    },
    {
      "source": [
        "# @title Content Rating\n",
        "#bar graph is used here to compare the rating by various groups/categories of users\n",
        "#family category has higest occurance in the data set\n",
        "from matplotlib import pyplot as plt\n",
        "import seaborn as sns\n",
        "df.groupby('Category').size().plot(kind='barh', color=sns.palettes.mpl_palette('Dark2'))\n",
        "plt.gca().spines[['top', 'right',]].set_visible(False)"
      ],
      "cell_type": "code",
      "execution_count": null,
      "outputs": [],
      "metadata": {
        "id": "Gk8aTAhLsOL-"
      }
    },
    {
      "cell_type": "markdown",
      "source": [
        "### Dataset Rows & Columns count"
      ],
      "metadata": {
        "id": "7hBIi_osiCS2"
      }
    },
    {
      "cell_type": "code",
      "source": [
        "# Dataset Rows & Columns count\n",
        "\n"
      ],
      "metadata": {
        "id": "Kllu7SJgmLij"
      },
      "execution_count": null,
      "outputs": []
    },
    {
      "cell_type": "markdown",
      "source": [
        "### Dataset Information"
      ],
      "metadata": {
        "id": "JlHwYmJAmNHm"
      }
    },
    {
      "cell_type": "code",
      "source": [
        "# Dataset Info\n",
        "df.info()\n",
        "#to check if theres' any null value"
      ],
      "metadata": {
        "id": "e9hRXRi6meOf"
      },
      "execution_count": null,
      "outputs": []
    },
    {
      "cell_type": "code",
      "source": [
        "df.describe()\n",
        "#only Rating column will be described, as all other columns are object except rating column"
      ],
      "metadata": {
        "id": "9l0ZTmg6QOZm"
      },
      "execution_count": null,
      "outputs": []
    },
    {
      "cell_type": "code",
      "source": [
        "df[df.isna()]"
      ],
      "metadata": {
        "id": "jAIcPpLQ8PYz"
      },
      "execution_count": null,
      "outputs": []
    },
    {
      "cell_type": "code",
      "source": [
        "df.isna().sum()\n",
        "#to check number of null values/missing values in the data set\n",
        "#the result shows that Rating has null values which cannot be directly removed and needs to be treated\n",
        "#the other features have very less amount of null values compared to the data set."
      ],
      "metadata": {
        "id": "cc4qVuf--gZP"
      },
      "execution_count": null,
      "outputs": []
    },
    {
      "cell_type": "code",
      "source": [
        "df[df['Rating'].isna()]\n"
      ],
      "metadata": {
        "id": "dDFM9FhfG_zl"
      },
      "execution_count": null,
      "outputs": []
    },
    {
      "cell_type": "code",
      "source": [
        "#checking with distribution of the dataset in terms of Rating\n",
        "#to replace the null value\n",
        "sns.distplot(df['Rating'])\n",
        "#it shows a negatively skewed distribution The peak of the distribution is around the 5.0 rating mark,\n",
        "#tail is towards left\n"
      ],
      "metadata": {
        "id": "3zAbtDsHB5wn"
      },
      "execution_count": null,
      "outputs": []
    },
    {
      "cell_type": "code",
      "source": [
        "#not normal distribution,so I will go with median for replacing null values\n",
        "df['Rating'].median()"
      ],
      "metadata": {
        "id": "fESjFTw8DxGn"
      },
      "execution_count": null,
      "outputs": []
    },
    {
      "cell_type": "code",
      "source": [
        "df['Rating'].mean()"
      ],
      "metadata": {
        "id": "hCqpKA1_G9uF"
      },
      "execution_count": null,
      "outputs": []
    },
    {
      "cell_type": "code",
      "source": [
        "#mean and median values are almost similar\n",
        "#I will replace null values with median\n",
        "df['Rating'].fillna(df['Rating'].median())"
      ],
      "metadata": {
        "id": "YgnP_thNHFeQ"
      },
      "execution_count": null,
      "outputs": []
    },
    {
      "cell_type": "code",
      "source": [
        "df['Rating']=df['Rating'].fillna(df['Rating'].median())"
      ],
      "metadata": {
        "id": "Z6KxNXPXIqsM"
      },
      "execution_count": null,
      "outputs": []
    },
    {
      "cell_type": "code",
      "source": [
        "# assigning to the same dataset\n",
        "df.info()\n",
        "#to check if theres' any null value"
      ],
      "metadata": {
        "id": "6_jrebfVKTNN"
      },
      "execution_count": null,
      "outputs": []
    },
    {
      "cell_type": "code",
      "source": [
        "#null values replacing for Types\n",
        "#other null values cannont be replaced as those are object data type\n",
        "#removing the null values\n",
        "df[df['Type'].isna()]\n"
      ],
      "metadata": {
        "id": "HfB_Zgy5OX4b"
      },
      "execution_count": null,
      "outputs": []
    },
    {
      "cell_type": "code",
      "source": [
        "rlist = df['Type'].tolist()\n",
        "for r in rlist:\n",
        "  print(r,type (r))"
      ],
      "metadata": {
        "id": "YgXh9KUHSDkr"
      },
      "execution_count": null,
      "outputs": []
    },
    {
      "cell_type": "code",
      "source": [
        "df.dropna(subset=['Type'])"
      ],
      "metadata": {
        "id": "mMT-sKFPWcjq"
      },
      "execution_count": null,
      "outputs": []
    },
    {
      "cell_type": "code",
      "source": [
        "df = df.dropna(subset=['Type'])"
      ],
      "metadata": {
        "id": "m9qFbQQcXyTl"
      },
      "execution_count": null,
      "outputs": []
    },
    {
      "cell_type": "code",
      "source": [
        "df.info()"
      ],
      "metadata": {
        "id": "8S1Pk9RpRxiS"
      },
      "execution_count": null,
      "outputs": []
    },
    {
      "cell_type": "code",
      "source": [
        "#removing null values from Content Rating\n",
        "rlist = df['Content Rating'].tolist()\n",
        "for r in rlist:\n",
        "  print(r,type (r))"
      ],
      "metadata": {
        "id": "ri4Y3FasYZ1t"
      },
      "execution_count": null,
      "outputs": []
    },
    {
      "cell_type": "code",
      "source": [
        "df.dropna(subset=['Content Rating'])\n",
        "df.dropna(subset=['Current Ver'])\n",
        "df.dropna(subset=['Android Ver'])\n"
      ],
      "metadata": {
        "id": "vcDIp-A-Yy_-"
      },
      "execution_count": null,
      "outputs": []
    },
    {
      "cell_type": "code",
      "source": [
        "df=df.dropna(subset=['Content Rating'])\n",
        "df=df.dropna(subset=['Current Ver'])\n",
        "df=df.dropna(subset=['Android Ver'])"
      ],
      "metadata": {
        "id": "Yy1eIuhUY8e8"
      },
      "execution_count": null,
      "outputs": []
    },
    {
      "cell_type": "code",
      "source": [
        "df.info()\n",
        "#cheked the new updated data sets post removing all the null values"
      ],
      "metadata": {
        "id": "IhJdR9jhXWSt"
      },
      "execution_count": null,
      "outputs": []
    },
    {
      "cell_type": "markdown",
      "source": [
        "#### Duplicate Values"
      ],
      "metadata": {
        "id": "35m5QtbWiB9F"
      }
    },
    {
      "cell_type": "code",
      "source": [
        "# Dataset Duplicate Value Count\n",
        "#theres' no duplicate entries in the dataset\n",
        "df.duplicated()"
      ],
      "metadata": {
        "id": "1sLdpKYkmox0"
      },
      "execution_count": null,
      "outputs": []
    },
    {
      "cell_type": "code",
      "source": [
        "df.duplicated().sum()"
      ],
      "metadata": {
        "id": "Ys3rdrddIjla"
      },
      "execution_count": null,
      "outputs": []
    },
    {
      "cell_type": "code",
      "source": [
        "df.drop_duplicates(inplace = True)"
      ],
      "metadata": {
        "id": "alnwIjnNI4wr"
      },
      "execution_count": null,
      "outputs": []
    },
    {
      "cell_type": "code",
      "source": [
        "df.duplicated().sum()"
      ],
      "metadata": {
        "id": "Vq2ZJuw3I9bY"
      },
      "execution_count": null,
      "outputs": []
    },
    {
      "cell_type": "code",
      "source": [
        "#Second Data Set First Look\n",
        "df1.head()"
      ],
      "metadata": {
        "id": "Dn7oaTEnV01p"
      },
      "execution_count": null,
      "outputs": []
    },
    {
      "source": [
        "# @title Sentiment\n",
        "#using Bar graph to compare the values among positive, negative and neutral sentiments\n",
        "#positive sentiment is having the highest occurance in the data set\n",
        "\n",
        "from matplotlib import pyplot as plt\n",
        "import seaborn as sns\n",
        "df1.groupby('Sentiment').size().plot(kind='barh', color=sns.palettes.mpl_palette('Dark2'))\n",
        "plt.gca().spines[['top', 'right',]].set_visible(False)"
      ],
      "cell_type": "code",
      "execution_count": null,
      "outputs": [],
      "metadata": {
        "id": "Vrnb0E9PX-ae"
      }
    },
    {
      "source": [
        "# @title Sentiment_Subjectivity\n",
        "#highest frequency is shown around 0.5\n",
        "\n",
        "from matplotlib import pyplot as plt\n",
        "df1['Sentiment_Subjectivity'].plot(kind='hist', bins=20, title='Sentiment_Subjectivity')\n",
        "plt.gca().spines[['top', 'right',]].set_visible(False)"
      ],
      "cell_type": "code",
      "execution_count": null,
      "outputs": [],
      "metadata": {
        "id": "YaYnp5CRWfgG"
      }
    },
    {
      "cell_type": "code",
      "source": [
        "#Second Dataset row and columns values\n",
        "len(df1.index)"
      ],
      "metadata": {
        "id": "5nO-h0Ovao3F"
      },
      "execution_count": null,
      "outputs": []
    },
    {
      "cell_type": "code",
      "source": [
        "len(df1.columns)"
      ],
      "metadata": {
        "id": "egVJgNopb7BX"
      },
      "execution_count": null,
      "outputs": []
    },
    {
      "cell_type": "code",
      "source": [
        "# Second Data Set Information\n",
        "df1.info()"
      ],
      "metadata": {
        "id": "VtRFZ77Jc2ec"
      },
      "execution_count": null,
      "outputs": []
    },
    {
      "cell_type": "code",
      "source": [
        "#Checking if we can describe the whole columns\n",
        "#as only Sentiment_Polarity and Sentiment Subjectivity are found as float\n",
        "df1.describe()\n"
      ],
      "metadata": {
        "id": "Mgfuy2Y3cmv1"
      },
      "execution_count": null,
      "outputs": []
    },
    {
      "cell_type": "code",
      "source": [
        "df1['Sentiment_Polarity'] = df1['Sentiment_Polarity'].astype(float)\n",
        "df1['Sentiment_Subjectivity'] = df1['Sentiment_Subjectivity'].astype(float)\n",
        "#I could not convert any other columns besides these two to float types."
      ],
      "metadata": {
        "id": "UaCk1w0CefH6"
      },
      "execution_count": null,
      "outputs": []
    },
    {
      "cell_type": "markdown",
      "source": [
        "#### Missing Values/Null Values"
      ],
      "metadata": {
        "id": "PoPl-ycgm1ru"
      }
    },
    {
      "cell_type": "code",
      "source": [
        "# Missing Values/Null Values Count\n",
        "df1[df1.isna()]"
      ],
      "metadata": {
        "id": "GgHWkxvamxVg"
      },
      "execution_count": null,
      "outputs": []
    },
    {
      "cell_type": "code",
      "source": [
        "# Visualizing the missing values\n",
        "df1.isna().sum()\n",
        "#except one column (App), rest all 4 coulumns have almost very high null values."
      ],
      "metadata": {
        "id": "3q5wnI3om9sJ"
      },
      "execution_count": null,
      "outputs": []
    },
    {
      "cell_type": "code",
      "source": [
        "#Treatment with null values\n",
        "#first I will treat with float data type\n",
        "df1[df1['Sentiment_Polarity'].isna()]\n",
        "df1[df1['Sentiment_Subjectivity'].isna()]\n"
      ],
      "metadata": {
        "id": "OxHn2XYdhcm9"
      },
      "execution_count": null,
      "outputs": []
    },
    {
      "cell_type": "code",
      "source": [
        "#checking with distribution of the dataset in terms of Sentiment_Polarity and Sentiment_Subjectivity\n",
        "#to replace the null value\n",
        "sns.distplot(df1['Sentiment_Polarity'])\n",
        "#The distribution has a single, prominent peak at zero, indicating a high frequency of neutral sentiments.\n",
        "#Right-skewed:long tail extending to the right,means positive sentiments are more than negative ones.\n",
        "#have to go with median for replacing null"
      ],
      "metadata": {
        "id": "lyxD4qtSi33y"
      },
      "execution_count": null,
      "outputs": []
    },
    {
      "cell_type": "code",
      "source": [
        "sns.distplot(df1['Sentiment_Subjectivity'])"
      ],
      "metadata": {
        "id": "Zyi70LQDI2jM"
      },
      "execution_count": null,
      "outputs": []
    },
    {
      "cell_type": "code",
      "source": [
        "df1['Sentiment_Polarity'].median()\n"
      ],
      "metadata": {
        "id": "ijCxS_3YMEK1"
      },
      "execution_count": null,
      "outputs": []
    },
    {
      "cell_type": "code",
      "source": [
        "#replacing the null values with median\n",
        "df1['Sentiment_Polarity'].fillna(df1['Sentiment_Polarity'].median())"
      ],
      "metadata": {
        "id": "OWJbGAl-IrHw"
      },
      "execution_count": null,
      "outputs": []
    },
    {
      "cell_type": "code",
      "source": [
        "df1['Sentiment_Subjectivity'].fillna(df1['Sentiment_Subjectivity'].median())"
      ],
      "metadata": {
        "id": "m9SohBD-NgRa"
      },
      "execution_count": null,
      "outputs": []
    },
    {
      "cell_type": "code",
      "source": [
        "#Replacing nullvalues and assigning new values to the data set\n",
        "df1['Sentiment_Subjectivity'] = df1['Sentiment_Subjectivity'].fillna(df1['Sentiment_Subjectivity'].median())\n",
        "df1['Sentiment_Polarity'] = df1['Sentiment_Polarity'].fillna(df1['Sentiment_Polarity'].median())"
      ],
      "metadata": {
        "id": "5WqzWQgxOkyb"
      },
      "execution_count": null,
      "outputs": []
    },
    {
      "cell_type": "code",
      "source": [
        "df1.info()"
      ],
      "metadata": {
        "id": "b7MNCu4xOrd4"
      },
      "execution_count": null,
      "outputs": []
    },
    {
      "cell_type": "code",
      "source": [
        "#now working on Object data type\n",
        "rlist = df1['Translated_Review'].tolist()\n",
        "for r in rlist:\n",
        "  print(r,type (r))"
      ],
      "metadata": {
        "id": "7PR9GirfP_uR"
      },
      "execution_count": null,
      "outputs": []
    },
    {
      "cell_type": "code",
      "source": [
        "rlist = df1['Sentiment'].tolist()\n",
        "for r in rlist:\n",
        "  print(r,type (r))"
      ],
      "metadata": {
        "id": "ZPYXHzwWRKfJ"
      },
      "execution_count": null,
      "outputs": []
    },
    {
      "cell_type": "code",
      "source": [
        "df1.dropna(subset=['Translated_Review'])\n",
        "df1.dropna(subset=['Sentiment'])\n",
        "#dropping the rows having null values"
      ],
      "metadata": {
        "id": "K8KrreFsREaM"
      },
      "execution_count": null,
      "outputs": []
    },
    {
      "cell_type": "code",
      "source": [
        "#assigning updated columns and rows in the data set\n",
        "df1 = df1.dropna(subset=['Translated_Review'])\n",
        "df1 = df1.dropna(subset=['Sentiment'])"
      ],
      "metadata": {
        "id": "2dsszYHzSL1L"
      },
      "execution_count": null,
      "outputs": []
    },
    {
      "cell_type": "code",
      "source": [
        "df1.info()"
      ],
      "metadata": {
        "id": "VRwhhzcaSTVT"
      },
      "execution_count": null,
      "outputs": []
    },
    {
      "cell_type": "code",
      "source": [
        "df1.tail()\n",
        "#to further verify that these rows have duplicate value throughout all columns"
      ],
      "metadata": {
        "id": "h0AJDccLrgEI"
      },
      "execution_count": null,
      "outputs": []
    },
    {
      "cell_type": "code",
      "source": [
        "df1.info()"
      ],
      "metadata": {
        "id": "1Z7MZbrfsvBh"
      },
      "execution_count": null,
      "outputs": []
    },
    {
      "cell_type": "code",
      "source": [
        "#checking for duplicates in the data set\n",
        "df1.duplicated()\n"
      ],
      "metadata": {
        "id": "Lr9nVscONygQ"
      },
      "execution_count": null,
      "outputs": []
    },
    {
      "cell_type": "code",
      "source": [
        "df1.duplicated().sum()"
      ],
      "metadata": {
        "id": "heQqm7EMN7Jj"
      },
      "execution_count": null,
      "outputs": []
    },
    {
      "cell_type": "code",
      "source": [
        "#removing the duplicated\n",
        "df1.drop_duplicates(inplace = True)"
      ],
      "metadata": {
        "id": "Flj1cjrrOQuP"
      },
      "execution_count": null,
      "outputs": []
    },
    {
      "cell_type": "code",
      "source": [
        "#second data is free of null and duplicates\n",
        "df1.duplicated().sum()"
      ],
      "metadata": {
        "id": "5aJJTarsOVa0"
      },
      "execution_count": null,
      "outputs": []
    },
    {
      "cell_type": "code",
      "source": [
        "\n",
        "# Count unique values in column App from Second dataset\n",
        "\n",
        "unique_values_count = df1['App'].nunique()\n",
        "\n",
        "print(unique_values_count)\n",
        "\n"
      ],
      "metadata": {
        "id": "xdYygKvhV5dX"
      },
      "execution_count": null,
      "outputs": []
    },
    {
      "cell_type": "code",
      "source": [
        "#In column App in both the data sets unique values are different,\n",
        "#I will do outer join here, so that no data will be lost\n",
        "pd.merge(df,df1, on = \"App\" , how = \"outer\")"
      ],
      "metadata": {
        "id": "k22GLJ_JXPNZ"
      },
      "execution_count": null,
      "outputs": []
    },
    {
      "cell_type": "code",
      "source": [
        "#assigning new merged data set\n",
        "new = pd.merge(df,df1, on = \"App\" , how = \"outer\")"
      ],
      "metadata": {
        "id": "UXx1C74RZabL"
      },
      "execution_count": null,
      "outputs": []
    },
    {
      "cell_type": "code",
      "source": [
        "new.info()"
      ],
      "metadata": {
        "id": "0aYvltmeZjWf"
      },
      "execution_count": null,
      "outputs": []
    },
    {
      "cell_type": "code",
      "source": [
        "rlist = new['App'].tolist()\n",
        "for r in rlist:\n",
        "  print(r,type (r))"
      ],
      "metadata": {
        "id": "Ux4JhPr5dxSj"
      },
      "execution_count": null,
      "outputs": []
    },
    {
      "cell_type": "code",
      "source": [
        "new.dropna(subset=['App'])\n",
        "new.dropna(subset=['Category'])\n",
        "new.dropna(subset=['Reviews'])\n",
        "new.dropna(subset=['Size'])\n",
        "new.dropna(subset=['Installs'])\n",
        "new.dropna(subset=['Type'])\n",
        "new.dropna(subset=['Price'])\n",
        "new.dropna(subset=['Content Rating'])\n",
        "new.dropna(subset=['Genres'])\n",
        "new.dropna(subset=['Last Updated'])\n",
        "new.dropna(subset=['Current Ver'])\n",
        "new.dropna(subset=['Android Ver'])\n",
        "new.dropna(subset=['Sentiment'])"
      ],
      "metadata": {
        "id": "2nRJV_bshmz_"
      },
      "execution_count": null,
      "outputs": []
    },
    {
      "cell_type": "code",
      "source": [
        "new = new.dropna(subset=['App'])\n",
        "new = new.dropna(subset=['Category'])\n",
        "new = new.dropna(subset=['Reviews'])\n",
        "new = new.dropna(subset=['Size'])\n",
        "new = new.dropna(subset=['Installs'])\n",
        "new = new.dropna(subset=['Type'])\n",
        "new = new.dropna(subset=['Price'])\n",
        "new = new.dropna(subset=['Content Rating'])\n",
        "new = new.dropna(subset=['Genres'])\n",
        "new = new.dropna(subset=['Last Updated'])\n",
        "new = new.dropna(subset=['Current Ver'])\n",
        "new = new.dropna(subset=['Android Ver'])\n",
        "new = new.dropna(subset=['Sentiment'])"
      ],
      "metadata": {
        "id": "nO95FUbik-hu"
      },
      "execution_count": null,
      "outputs": []
    },
    {
      "cell_type": "code",
      "source": [
        "new.info()"
      ],
      "metadata": {
        "id": "FDu8OVd7lYna"
      },
      "execution_count": null,
      "outputs": []
    },
    {
      "cell_type": "code",
      "source": [
        "new.describe()"
      ],
      "metadata": {
        "id": "afE67D4wsvhi"
      },
      "execution_count": null,
      "outputs": []
    },
    {
      "cell_type": "code",
      "source": [
        "new['Rating'].fillna(new['Rating'].median())"
      ],
      "metadata": {
        "id": "ydj35HaZtBHe"
      },
      "execution_count": null,
      "outputs": []
    },
    {
      "cell_type": "code",
      "source": [
        "new['Rating'] = new['Rating'].fillna(new['Rating'].median())"
      ],
      "metadata": {
        "id": "NNfdqyAIvCue"
      },
      "execution_count": null,
      "outputs": []
    },
    {
      "cell_type": "code",
      "source": [
        "new.info()\n",
        "#now the new merged dataset is completely free of null values"
      ],
      "metadata": {
        "id": "EmBecMfPvLN6"
      },
      "execution_count": null,
      "outputs": []
    },
    {
      "cell_type": "code",
      "source": [
        "new.duplicated()"
      ],
      "metadata": {
        "id": "m8vTCpNavZIa"
      },
      "execution_count": null,
      "outputs": []
    },
    {
      "cell_type": "code",
      "source": [
        "new.duplicated().sum()\n",
        "#all the duplicated rows from new dataset are also dropped."
      ],
      "metadata": {
        "id": "fhxuQxHxeMqG"
      },
      "execution_count": null,
      "outputs": []
    },
    {
      "cell_type": "markdown",
      "source": [
        "### What did you know about your dataset?"
      ],
      "metadata": {
        "id": "H0kj-8xxnORC"
      }
    },
    {
      "cell_type": "markdown",
      "source": [
        "***First Data Set ***describes the various Apps which fall on different categories,having different ratings, reviews,content ratings from users, each App has different size. This data set also says about installations done (App wise)and bifurcates which App is free and which is paid.Also which App is last updated and which App is suitable for current version or Android version can also be understood from this dataset. This data set is mainly App feature related.\n",
        "\n",
        "**Second Data set** mainly deals with user reviews and Sentiment Analysis.It also has the same Apps' name but for each App how many positive /negative /neutral reviews are there can be studied. This data set is mainly user related .\n",
        "After merging two data sets I have got a new dataset with a common column App"
      ],
      "metadata": {
        "id": "gfoNAAC-nUe_"
      }
    },
    {
      "cell_type": "markdown",
      "source": [],
      "metadata": {
        "id": "FbMxXGr3v6y3"
      }
    },
    {
      "cell_type": "markdown",
      "source": [
        "## ***2. Understanding Your Variables***"
      ],
      "metadata": {
        "id": "nA9Y7ga8ng1Z"
      }
    },
    {
      "cell_type": "code",
      "source": [
        "# Dataset Columns\n",
        "new.info()"
      ],
      "metadata": {
        "id": "j7xfkqrt5Ag5"
      },
      "execution_count": null,
      "outputs": []
    },
    {
      "cell_type": "code",
      "source": [
        "# Dataset Describe\n",
        "new.describe()"
      ],
      "metadata": {
        "id": "DnOaZdaE5Q5t"
      },
      "execution_count": null,
      "outputs": []
    },
    {
      "cell_type": "markdown",
      "source": [
        "### Variables Description"
      ],
      "metadata": {
        "id": "PBTbrJXOngz2"
      }
    },
    {
      "cell_type": "markdown",
      "source": [
        "\n",
        "\n",
        "1.   variable App= It mainly contains App of play store which are mentioned in the dataset\n",
        "The data type is Object\n",
        "Unique value 816\n",
        "Null values 0\n",
        "2.   Next Variable Category=describes the kind of category the particular App in that row belongs to\n",
        "The data type is Object\n",
        "Unique value 33\n",
        "Null values 0\n",
        "3.   Next variable Rating = gives us numerical value /rating for that particular App in the row\n",
        "Unique value 22\n",
        "Null values 0\n",
        "4.Reviews= tells number of reviews for that particular App\n",
        "data type=object\n",
        "Unique value 1068\n",
        "Null values 0\n",
        "5. Size= describes size of the App\n",
        "data type=object\n",
        "Unique value 168\n",
        "null values 0\n",
        "6. Installs=It shows how many installations are done for that particular App\n",
        "data type=object\n",
        "unique value =12\n",
        "null values = 0\n",
        "7. Type= It shows number of Apps which are free App and number of Apps which are paid App\n",
        "data type=object\n",
        "Unique value =2\n",
        "Null=0\n",
        "8.Price = It says for the paid App how much is the price\n",
        "data type=object(for dollar sign)\n",
        "unique value=9\n",
        "Null= 0\n",
        "9.Content Rating=It says rating as per content and population wise\n",
        "data type=object\n",
        "Unique values=5\n",
        "10. Genre=It tells us the App is based on what type of information /categories\n",
        "data type=object\n",
        "unique value=68\n",
        "null values=0\n",
        "11.Last updated= This means the last date of updation of that particular App\n",
        "data type=object\n",
        "unique value=251\n",
        "null values=0\n",
        "12. current ver=It is the version of the software being supported by the App publisher\n",
        "data type=object\n",
        "unique value=506\n",
        "null=0\n",
        "13.Android ver=gives a unique numerical code name for that particular App on row\n",
        "data type=object\n",
        "unique value =22\n",
        "null=0\n",
        "14.Translated Review=Reviews are being published in common language\n",
        "data type=object\n",
        "unique value =26682\n",
        "null=0\n",
        "15. Sentiment=It is basically describing wheather the review given is positive, negative or neutral\n",
        "data type=object\n",
        "unique value =3\n",
        "null=0\n",
        "16.Sentiment polarity says the orientation of the expressed review , where neutral point is 0 and rest denoted with + or _ sign\n",
        "data type=float\n",
        "unique value =5295\n",
        "null=0\n",
        "17. Sentiment subjectivity=says the degree or intensity of emotions /sentiments in the given review of that particular App\n",
        "data type=float\n",
        "unique value =4632\n",
        "null=0\n",
        "\n",
        "\n",
        "\n",
        "\n",
        "\n",
        "\n"
      ],
      "metadata": {
        "id": "aJV4KIxSnxay"
      }
    },
    {
      "cell_type": "markdown",
      "source": [
        "### Check Unique Values for each variable."
      ],
      "metadata": {
        "id": "u3PMJOP6ngxN"
      }
    },
    {
      "cell_type": "code",
      "source": [
        "new.nunique()"
      ],
      "metadata": {
        "id": "Ft9Htsvk1xPg"
      },
      "execution_count": null,
      "outputs": []
    },
    {
      "cell_type": "markdown",
      "source": [
        "## 3. ***Data Wrangling***"
      ],
      "metadata": {
        "id": "dauF4eBmngu3"
      }
    },
    {
      "cell_type": "markdown",
      "source": [
        "### Data Wrangling Code"
      ],
      "metadata": {
        "id": "bKJF3rekwFvQ"
      }
    },
    {
      "cell_type": "code",
      "source": [
        "# code to make my dataset analysis ready.\n",
        "#checking for numerical columns\n",
        "new.columns"
      ],
      "metadata": {
        "id": "wk-9a2fpoLcV"
      },
      "execution_count": null,
      "outputs": []
    },
    {
      "cell_type": "code",
      "source": [
        "cor_selected = new[['Rating','Sentiment_Polarity','Sentiment_Subjectivity']]\n",
        "cor_selected.corr()"
      ],
      "metadata": {
        "id": "74diZUQwkhY-"
      },
      "execution_count": null,
      "outputs": []
    },
    {
      "cell_type": "code",
      "source": [
        "sns.heatmap(cor_selected.corr(), annot = True)"
      ],
      "metadata": {
        "id": "pKJIAFDGnpdN"
      },
      "execution_count": null,
      "outputs": []
    },
    {
      "cell_type": "markdown",
      "source": [
        "### What all manipulations have you done and insights you found?"
      ],
      "metadata": {
        "id": "MSa1f5Uengrz"
      }
    },
    {
      "cell_type": "markdown",
      "source": [],
      "metadata": {
        "id": "4t9loSvnbsIo"
      }
    },
    {
      "cell_type": "markdown",
      "source": [
        "\n",
        "Sentiment polarity and rating is not positively corelated as value is very less than 1 ,its 0.075,means increase in rating has nothing much to do with sentiment polarity. Color is also dark, which means highly negatively corelated\n",
        "Simillar is the case with Sentiment subjectivity and rating, corelation value is even lesser , i.e. 0.071..Here is also color is dark , so this is also highly negatively corelated\n"
      ],
      "metadata": {
        "id": "LbyXE7I1olp8"
      }
    },
    {
      "cell_type": "markdown",
      "source": [
        "## ***4. Data Vizualization, Storytelling & Experimenting with charts : Understand the relationships between variables***"
      ],
      "metadata": {
        "id": "GF8Ens_Soomf"
      }
    },
    {
      "cell_type": "code",
      "source": [
        "new.to_csv('def',sep='\\t')"
      ],
      "metadata": {
        "id": "7yimWbxtbWji"
      },
      "execution_count": null,
      "outputs": []
    },
    {
      "cell_type": "markdown",
      "source": [
        "#### Chart - 1"
      ],
      "metadata": {
        "id": "0wOQAZs5pc--"
      }
    },
    {
      "cell_type": "code",
      "source": [
        "# Chart - 1 visualization code\n",
        "#checking for outliers in Rating column\n",
        "#as Rating is a very important variiable to check or measure the effectiveness of the Apps and to rectify accordingly\n",
        "#so I am checking for outliers to find out which are out of range(whether that is in poistive direction or negative direction)\n",
        "new['Rating']"
      ],
      "metadata": {
        "id": "7v_ESjsspbW7"
      },
      "execution_count": null,
      "outputs": []
    },
    {
      "cell_type": "code",
      "source": [
        "sns.boxplot(new['Rating'])"
      ],
      "metadata": {
        "id": "HUAL4QVTrvMk"
      },
      "execution_count": null,
      "outputs": []
    },
    {
      "cell_type": "code",
      "source": [
        "np.percentile(new['Rating'],25)\n",
        "# interquartile range is between 4.2 to 4.5"
      ],
      "metadata": {
        "id": "kuTx7q1GumGr"
      },
      "execution_count": null,
      "outputs": []
    },
    {
      "cell_type": "code",
      "source": [
        "#to find out from where outliers are started\n",
        "np.percentile(new['Rating'],5)\n",
        "#it is observed that from 5 percentile the outliers are started(some low ratings below 3.8)\n"
      ],
      "metadata": {
        "id": "lk_KGgzPwoAy"
      },
      "execution_count": null,
      "outputs": []
    },
    {
      "cell_type": "code",
      "source": [
        "sns.distplot(new['Rating'])"
      ],
      "metadata": {
        "id": "sGCMEu8Xsa3G"
      },
      "execution_count": null,
      "outputs": []
    },
    {
      "cell_type": "code",
      "source": [
        "new[new['Rating']<=new['Rating'].quantile(0.05)]\n",
        "#cosidering 0.01 percentile values i.e.below 3.1 ratings are as significantly outliers, we get 2332 ratings are outliers\n"
      ],
      "metadata": {
        "id": "SsaaTst_6ze8"
      },
      "execution_count": null,
      "outputs": []
    },
    {
      "cell_type": "markdown",
      "source": [
        "##### 1. Why did you pick the specific chart?"
      ],
      "metadata": {
        "id": "K5QZ13OEpz2H"
      }
    },
    {
      "cell_type": "markdown",
      "source": [
        "Ans=Here I have chosen the box plot to find out the outliers in Rating column, as Rating is one of the most important variable from the business perspective for the App related business. It will also help me to find out from which point the outliers start, so that I can analyse the feature which is the main reason for the outliers. This also helps me to check the intraquartile range , which lies between 4.2 to 4.5"
      ],
      "metadata": {
        "id": "XESiWehPqBRc"
      }
    },
    {
      "cell_type": "markdown",
      "source": [
        "##### 2. What is/are the insight(s) found from the chart?"
      ],
      "metadata": {
        "id": "lQ7QKXXCp7Bj"
      }
    },
    {
      "cell_type": "markdown",
      "source": [
        "Ans=The following are the insights from the chart\n",
        "1.The chart has some outliers. When I have checked with different percentile value , I have understood that from 5 percentile i.e. after 3.8 rating,the outliers start. Means the Rating has dropped significantly\n",
        "2.I could see that some ratings are dropped even till 1 also.So now need to find out the features contributing to those ratings."
      ],
      "metadata": {
        "id": "C_j1G7yiqdRP"
      }
    },
    {
      "cell_type": "markdown",
      "source": [
        "##### 3. Will the gained insights help creating a positive business impact?\n",
        "Are there any insights that lead to negative growth? Justify with specific reason.\n",
        "\n",
        "Ans=Yes definitely.If the ouliers are in positive direction, then we can further emphasize those features contributing to high rating and if the outliers are in negative direction, we can improvise those features by rectifying those, by taking various corrective meaasure to get some more user friendly Apps which will grow business by attracting more users/customers"
      ],
      "metadata": {
        "id": "448CDAPjqfQr"
      }
    },
    {
      "cell_type": "markdown",
      "source": [
        "Ans=Yes definitely.If the ouliers are in positive direction, then we can further emphasize those features contributing to high rating and if the outliers are in negative direction, we can improvise those features by rectifying those, by taking various corrective meaasure to get some more user friendly Apps which will grow business by attracting more users/customers.2332 ratings are outliers, so working on the contributing variables/features will definitely help the business growth"
      ],
      "metadata": {
        "id": "3cspy4FjqxJW"
      }
    },
    {
      "cell_type": "markdown",
      "source": [
        "#### Chart - 2"
      ],
      "metadata": {
        "id": "KSlN3yHqYklG"
      }
    },
    {
      "cell_type": "code",
      "source": [
        "# Chart - 2 visualization code\n",
        "# Here I have applied dt loc method to find out the Apps ,categories which contributes to the outliers in Ratings\n",
        "new.loc[(new['Rating'] < 3.3)]"
      ],
      "metadata": {
        "id": "R4YgtaqtYklH"
      },
      "execution_count": null,
      "outputs": []
    },
    {
      "cell_type": "code",
      "source": [
        "#I have assigned this new part of dataframe to df3 to analyse further\n",
        "df3 = new.loc[(new['Rating'] < 3.3)]"
      ],
      "metadata": {
        "id": "QeGJqxL_f62D"
      },
      "execution_count": null,
      "outputs": []
    },
    {
      "cell_type": "code",
      "source": [
        "# Count unique values in column App from Second dataset\n",
        "#To find out the number of App contributing to lesser Rating\n",
        "\n",
        "unique_values_count = df3['App'].nunique()\n",
        "\n",
        "print(unique_values_count)"
      ],
      "metadata": {
        "id": "XjyBQAuJkN_d"
      },
      "execution_count": null,
      "outputs": []
    },
    {
      "cell_type": "code",
      "source": [
        "df3.info()"
      ],
      "metadata": {
        "id": "5OssXzYz6M5r"
      },
      "execution_count": null,
      "outputs": []
    },
    {
      "cell_type": "code",
      "source": [
        "agg_data = df3.groupby('App')['Rating'].mean().reset_index()\n",
        "print(agg_data)"
      ],
      "metadata": {
        "id": "06aTWq29j2pw"
      },
      "execution_count": null,
      "outputs": []
    },
    {
      "cell_type": "code",
      "source": [
        "import seaborn as sns\n",
        "import pandas as pd\n",
        "import matplotlib.pyplot as plt\n",
        "\n",
        "\n",
        "\n",
        "# Plotting\n",
        "plt.figure(figsize=(10, 6))\n",
        "sns.barplot(x='Rating', y='App', data=agg_data, palette='viridis')\n",
        "\n",
        "# Adding labels and title\n",
        "plt.xlabel('Rating')\n",
        "plt.ylabel('App')\n",
        "plt.title('Horizontal Bar Plot of Categories')\n",
        "plt.grid(True, axis='x')\n",
        "\n",
        "# Show plot\n",
        "plt.show()\n",
        "\n"
      ],
      "metadata": {
        "id": "0Lnb500krFCL"
      },
      "execution_count": null,
      "outputs": []
    },
    {
      "cell_type": "markdown",
      "source": [
        "##### 1. Why did you pick the specific chart?"
      ],
      "metadata": {
        "id": "t6dVpIINYklI"
      }
    },
    {
      "cell_type": "markdown",
      "source": [
        "I have picked up bar graph here to give an immediate visualization of the apps which are giving the lowest rating out of all outliers.\n",
        "I have choosen horizontal bar graph because text in App column are long ,\n"
      ],
      "metadata": {
        "id": "5aaW0BYyYklI"
      }
    },
    {
      "cell_type": "markdown",
      "source": [
        "##### 2. What is/are the insight(s) found from the chart?"
      ],
      "metadata": {
        "id": "ijmpgYnKYklI"
      }
    },
    {
      "cell_type": "markdown",
      "source": [
        "The insights that can be drawn from this visualisation is that\n",
        "1.The lowest rated App is 'Anthem BC Anywhere', second lowest being 'Anthem Anywhere'\n",
        "2. Further going inside we can found out that Both of the Apps' category is Medical.\n",
        "3.within Medical category, both these Apps are free type, so chances may be there that these two Apps are not upto the standard of other paid type Apps . These Apps may not be able to satisfy the health and medical needs of users\n",
        "4. I could also see that negative reviews are comparatively higher than positive and neutral reviews for these two Apps"
      ],
      "metadata": {
        "id": "PSx9atu2YklI"
      }
    },
    {
      "cell_type": "markdown",
      "source": [
        "##### 3. Will the gained insights help creating a positive business impact?\n",
        "Are there any insights that lead to negative growth? Justify with specific reason.\n"
      ],
      "metadata": {
        "id": "-JiQyfWJYklI"
      }
    },
    {
      "cell_type": "markdown",
      "source": [
        "The gained insights can definitely help in creating positive business impact, by the following ways\n",
        "1. Delta Dental is also from category Medical\n",
        "2. Entel is from Life style category and is free\n",
        "3.HTC Mail from productivity category and is free type\n",
        "4. Eye cloud is from library category and free type\n",
        "5.connectline is also from medical category"
      ],
      "metadata": {
        "id": "BcBbebzrYklV"
      }
    },
    {
      "cell_type": "markdown",
      "source": [
        "#### Chart - 3"
      ],
      "metadata": {
        "id": "EM7whBJCYoAo"
      }
    },
    {
      "cell_type": "code",
      "source": [
        "# Chart - 3 visualization code\n",
        "#Using pie chart for comparing the different sentiments\n",
        "sentiment_counts = new['Sentiment'].value_counts()\n"
      ],
      "metadata": {
        "id": "t6GMdE67YoAp"
      },
      "execution_count": null,
      "outputs": []
    },
    {
      "cell_type": "code",
      "source": [
        "plt.figure(figsize=(8, 8))\n",
        "plt.pie(sentiment_counts, labels=sentiment_counts.index, autopct='%1.1f%%', startangle=140)\n",
        "plt.title('Sentiment Distribution of Play Store App Reviews')\n",
        "plt.show()"
      ],
      "metadata": {
        "id": "JcaUGSVRZ3DX"
      },
      "execution_count": null,
      "outputs": []
    },
    {
      "cell_type": "markdown",
      "source": [
        "##### 1. Why did you pick the specific chart?"
      ],
      "metadata": {
        "id": "fge-S5ZAYoAp"
      }
    },
    {
      "cell_type": "markdown",
      "source": [
        "Here I have choosen the pie chart to compare the different sentiments on the merged data set (named as new).\n",
        "I have used pie chart because it gives a very clear visual impact at a very first glance by specifying bigger size for bigger counts and smaller size for smaller counts.\n",
        "Any one at a very first sight can get a very fair idea of different categories which are being compared"
      ],
      "metadata": {
        "id": "5dBItgRVYoAp"
      }
    },
    {
      "cell_type": "markdown",
      "source": [
        "##### 2. What is/are the insight(s) found from the chart?"
      ],
      "metadata": {
        "id": "85gYPyotYoAp"
      }
    },
    {
      "cell_type": "markdown",
      "source": [
        "The insight that I have gained from this pie chart is that the play store data set have a very high number of positive sentiments compared to those of negaive and neutral sentiments.\n",
        "This means that the Apps specified in this data set are some meaningful and helpful Apps whcih most likely are preffered by maximum user. So these Apps can be continued further for the business point of view"
      ],
      "metadata": {
        "id": "4jstXR6OYoAp"
      }
    },
    {
      "cell_type": "markdown",
      "source": [
        "##### 3. Will the gained insights help creating a positive business impact?\n",
        "Are there any insights that lead to negative growth? Justify with specific reason."
      ],
      "metadata": {
        "id": "RoGjAbkUYoAp"
      }
    },
    {
      "cell_type": "markdown",
      "source": [
        "Yes, this insight will definitely help in creating positive business impact, as now it is clear that most of the Apps are satisfying and liked by users, so those can be continued further with some more improved technology driven solutions. This will draw more and more new customer towards those Apps and will help to retain old customers as well, leading to high business profitability"
      ],
      "metadata": {
        "id": "zfJ8IqMcYoAp"
      }
    },
    {
      "cell_type": "markdown",
      "source": [
        "#### Chart - 4"
      ],
      "metadata": {
        "id": "4Of9eVA-YrdM"
      }
    },
    {
      "cell_type": "code",
      "source": [
        "# Chart - 4 visualization code\n",
        "new['Installs']\n",
        "#There is no outliers in the Installs column. 25% percentile is at 1,000,000+ 50% percentile is at 10,000,000+ 75% percntile is at 100,000,000+\n",
        "\n",
        "#Central Tendency: The median install count is 10,000,000+. Spread: There is a wide range of install counts, with the middle 50% (IQR) of apps having between 100,000+ and 10,000,000+ installs. Range: The full range of install counts extends from 1,000+ to 1,000,000,000+ installs.\n",
        "#I"
      ],
      "metadata": {
        "id": "irlUoxc8YrdO"
      },
      "execution_count": null,
      "outputs": []
    },
    {
      "cell_type": "code",
      "source": [
        "new.describe()"
      ],
      "metadata": {
        "id": "bjxQm6TEvu8-"
      },
      "execution_count": null,
      "outputs": []
    },
    {
      "cell_type": "code",
      "source": [
        "App_counts = df3['App'].value_counts()\n",
        "print(App_counts)"
      ],
      "metadata": {
        "id": "nSDC48xFdsOe"
      },
      "execution_count": null,
      "outputs": []
    },
    {
      "cell_type": "code",
      "source": [
        "# Distribution of app categories\n",
        "plt.figure(figsize=(5, 5))\n",
        "sns.countplot(y='App', data=df3, order=df3['App'].value_counts().index)\n",
        "plt.title('Distribution of App Categories')\n",
        "plt.show()"
      ],
      "metadata": {
        "id": "Hv-QoIGXi2KS"
      },
      "execution_count": null,
      "outputs": []
    },
    {
      "cell_type": "code",
      "source": [
        "# Extracting day of the week and month from 'Last Updated'\n",
        "#To read and analyse the dataset with last updates\n",
        "df3['Last Updated'] = pd.to_datetime(df3['Last Updated'])\n",
        "df3['Last Updated Month'] = df3['Last Updated'].dt.month\n",
        "df3['Last Updated Day'] = df3['Last Updated'].dt.dayofweek\n",
        "# Average rating by category\n",
        "#to find out average rating category wise, so that I can rank or positioned the categories as per rating.\n",
        "avg_rating_by_category = df3.groupby('Category')['Rating'].mean().reset_index().sort_values(by='Rating', ascending=False)\n",
        "print(avg_rating_by_category)\n",
        "\n",
        "\n",
        "\n"
      ],
      "metadata": {
        "id": "Yva1vpFQhgS4"
      },
      "execution_count": null,
      "outputs": []
    },
    {
      "cell_type": "code",
      "source": [
        "# Plotting horizontal bar plot of categories vs ratings\n",
        "plt.figure(figsize=(10, 6))\n",
        "sns.barplot(x='Rating', y='Category', data=avg_rating_by_category, palette='viridis')\n",
        "\n",
        "# Adding labels and title\n",
        "plt.xlabel('Rating')\n",
        "plt.ylabel('Category')\n",
        "plt.title('Horizontal Bar Plot of Categories')\n",
        "plt.grid(True, axis='x')\n",
        "\n",
        "# Show plot\n",
        "plt.show()"
      ],
      "metadata": {
        "id": "VXRIIAxCM9ow"
      },
      "execution_count": null,
      "outputs": []
    },
    {
      "cell_type": "markdown",
      "source": [
        "##### 1. Why did you pick the specific chart?"
      ],
      "metadata": {
        "id": "iky9q4vBYrdO"
      }
    },
    {
      "cell_type": "markdown",
      "source": [
        "I have picked up Horizontal bar graph so that I can represent the different categorys' contribution towards ratings.\n",
        "1.I choose horizontal as it gives me space to label the long category names\n",
        "2. I want to compare the various categories in terms of thier contribution towards ratings, so I have used bar plot\n",
        "3. I want to positioned or rank the various categories as per thier Ratings\n",
        "4.Bar graph gives the more clear picture of the comparison at a glance"
      ],
      "metadata": {
        "id": "aJRCwT6DYrdO"
      }
    },
    {
      "cell_type": "markdown",
      "source": [
        "##### 2. What is/are the insight(s) found from the chart?"
      ],
      "metadata": {
        "id": "F6T5p64dYrdO"
      }
    },
    {
      "cell_type": "markdown",
      "source": [
        "The insights from this charts are;\n",
        "\n",
        "1.This represents the average ratings of apps in different categories. Each bar corresponds to a different app category, and the length of the bar indicates the average rating for that category.\n",
        "\n",
        "2.The y-axis represents different app categories like LIFESTYLE, LIBRARIES_AND_DEMO, PRODUCTIVITY, TRAVEL_AND_LOCAL, ENTERTAINMENT, MEDICAL etc.\n",
        "\n",
        "3.The x-axis shows the average rating for apps in each category.\n",
        "\n",
        "4.Categories like LIFESTYLE has positioned first having the longest bars, indicating they have the highest average ratings among the categories displayed.\n",
        "5.Categories like MEDICAL have relatively shorter bars, indicating lower average ratings compared to LIFESTYLE"
      ],
      "metadata": {
        "id": "Xx8WAJvtYrdO"
      }
    },
    {
      "cell_type": "markdown",
      "source": [
        "##### 3. Will the gained insights help creating a positive business impact?\n",
        "Are there any insights that lead to negative growth? Justify with specific reason."
      ],
      "metadata": {
        "id": "y-Ehk30pYrdP"
      }
    },
    {
      "cell_type": "markdown",
      "source": [
        "This insights will help creating a positive business impact by the following way\n",
        "a.1. Identifying High-Performing Categories\n",
        "Targeted Investment:  improving existing apps and categories can leverage their popularity and positive reception.\n",
        "2.Marketing Focus: Marketing efforts can be concentrated on these high-performing categories to maximize returns, better user engagement and higher downloads.\n",
        "\n",
        "b.2. Improving Low-Performing Categories\n",
        "Quality Improvement: Categories with lower average ratings indicate areas needing improvement. Understanding user feedback and addressing issues in these apps can enhance their ratings and user satisfaction.\n",
        "\n",
        "Feature Development: Analyzing the features of high-rated apps in better-performing categories and implementing similar features or quality improvements in lower-rated categories can help raise their standards.\n",
        "\n",
        "c.Businesses can use these insights to maintain a balanced portfolio of apps across various categories.\n",
        "\n",
        "d.enhancing better resource allocation\n",
        "\n",
        "e.By attaining better User Retention and Engagement\n",
        "\n",
        "f.By Benchmarking;Understanding which categories perform well and why allows businesses to benchmark against competitors and strive to offer superior products."
      ],
      "metadata": {
        "id": "jLNxxz7MYrdP"
      }
    },
    {
      "cell_type": "markdown",
      "source": [
        "#### Chart - 5"
      ],
      "metadata": {
        "id": "bamQiAODYuh1"
      }
    },
    {
      "cell_type": "markdown",
      "source": [
        "There is no outliers in the Installs column.\n",
        "25% percentile is at 1,000,000+\n",
        "50% percentile is at 10,000,000+\n",
        "75% percntile is at 100,000,000+\n",
        "\n",
        "Central Tendency: The median install count is 10,000,000+.\n",
        "Spread: There is a wide range of install counts, with the middle 50% (IQR) of apps having between 100,000+ and 10,000,000+ installs.\n",
        "Range: The full range of install counts extends from 1,000+ to 1,000,000,000+ installs."
      ],
      "metadata": {
        "id": "xSITsu-Tn0gZ"
      }
    },
    {
      "cell_type": "markdown",
      "source": [],
      "metadata": {
        "id": "XlZ3leo4mKKJ"
      }
    },
    {
      "cell_type": "code",
      "source": [
        "# Step 1: Clean the Installs column\n",
        "df3['Installs'] = df3['Installs'].str.replace(',', '')  # Remove commas\n",
        "df3['Installs'] = df3['Installs'].str.replace('+', '')  # Remove plus signs\n",
        "\n",
        "# Step 2: Convert to numeric\n",
        "df3['Installs'] = pd.to_numeric(df3['Installs'], errors='coerce')\n",
        "\n",
        "# Display the updated dataframe to verify\n",
        "print(df3.head())\n",
        "\n",
        "# Optionally, you can check for any rows where conversion failed (errors='coerce' sets those to NaN)\n",
        "print(df3[df3['Installs'].isnull()])\n",
        "\n"
      ],
      "metadata": {
        "id": "3rGh-P7Uo8od"
      },
      "execution_count": null,
      "outputs": []
    },
    {
      "cell_type": "code",
      "source": [
        "df3.head()"
      ],
      "metadata": {
        "id": "4lrFklRJpWIb"
      },
      "execution_count": null,
      "outputs": []
    },
    {
      "source": [
        "# @title Category vs Size\n",
        "\n",
        "from matplotlib import pyplot as plt\n",
        "import seaborn as sns\n",
        "import pandas as pd\n",
        "plt.subplots(figsize=(8, 8))\n",
        "df_2dhist = pd.DataFrame({\n",
        "    x_label: grp['Size'].value_counts()\n",
        "    for x_label, grp in df3.groupby('Category')\n",
        "})\n",
        "sns.heatmap(df_2dhist, cmap='viridis')\n",
        "plt.xlabel('Category')\n",
        "_ = plt.ylabel('Size')"
      ],
      "cell_type": "code",
      "execution_count": null,
      "outputs": [],
      "metadata": {
        "id": "gOcVFdQUQih3"
      }
    },
    {
      "cell_type": "code",
      "source": [
        "pip install squarify"
      ],
      "metadata": {
        "id": "yEs_sho7tIXD"
      },
      "execution_count": null,
      "outputs": []
    },
    {
      "cell_type": "markdown",
      "source": [
        "##### 1. Why did you pick the specific chart?"
      ],
      "metadata": {
        "id": "QHF8YVU7Yuh3"
      }
    },
    {
      "cell_type": "markdown",
      "source": [
        "I have picked up this chart because I have to plot a huge amount of data with huge values,bar chart cant be the best choice for this kind of data to be handled and visualize\n",
        "\n",
        "Tree map displays the data which is grouped and nested in a hierarchical structure\n",
        "\n",
        "It is easier to visually compare the sizes of rectangles in tree maps\n",
        "\n",
        "The values , the attributes /features all are displayed inside the rectangle, so at a glance all the attributes can easily be read"
      ],
      "metadata": {
        "id": "dcxuIMRPYuh3"
      }
    },
    {
      "cell_type": "markdown",
      "source": [
        "##### 2. What is/are the insight(s) found from the chart?"
      ],
      "metadata": {
        "id": "GwzvFGzlYuh3"
      }
    },
    {
      "cell_type": "markdown",
      "source": [
        "\n",
        "The heatmap represents some kind of relationship between the \"Category\" and \"Size\" dimensions. Here is a breakdown of the elements:\n",
        "\n",
        "Categories: The x-axis lists various app categories such as ENTERTAINMENT, LIBRARIES_AND_DEMO, LIFESTYLE, MEDICAL, PRODUCTIVITY, and TRAVEL_AND_LOCAL.\n",
        "\n",
        "Size: The y-axis lists sizes of the apps, such as 4.2M, 21M, 23M, 24M, 55M, and a category labeled \"Varies with device.\"\n",
        "\n",
        "Color Bar: The color bar on the right side indicates the intensity or frequency, with darker colors representing lower values and brighter colors representing higher values.\n",
        "\n",
        "To interpret what it represents, we can look at the color intensity for each cell. For instance:\n",
        "\n",
        "The \"PRODUCTIVITY\" category with a size of \"Varies with device\" has a moderate color intensity.\n",
        "\n",
        "The \"LIFESTYLE\" category with a size of 24M has a relatively high intensity (yellow), indicating a significant value for this combination.MEDICAL is also showing a bigger size of 42 M with a bright intensity.\n",
        "\n",
        "The \"TRAVEL_AND_LOCAL\" category with a size of 21M has the darkest color  suggesting a very low value for this combination."
      ],
      "metadata": {
        "id": "uyqkiB8YYuh3"
      }
    },
    {
      "cell_type": "markdown",
      "source": [
        "##### 3. Will the gained insights help creating a positive business impact?\n",
        "Are there any insights that lead to negative growth? Justify with specific reason."
      ],
      "metadata": {
        "id": "qYpmQ266Yuh3"
      }
    },
    {
      "cell_type": "markdown",
      "source": [
        "The gained insights will help creating a positive business impact in the following way\n",
        "\n",
        "1.Targeting  more Marketing and Development in high density areas will return more profit with less effort\n",
        "\n",
        "2.Encouraging strategical investment in higher intensity areas and avoid over investment in lower intensity areas will result in better resource allocation\n",
        "\n",
        "3.Identifying gaps in the market by exploring categories and sizes with moderate intensity. Diversifying the app portfolio to cover these areas might capture underserved segments\n",
        "\n",
        "4.Tailored messaging and promotions targeting users interested in high-intensity areas can increase user engagement and satisfaction.\n",
        "\n",
        "Analysing changes in category and size intensity over time to identify emerging trends."
      ],
      "metadata": {
        "id": "_WtzZ_hCYuh4"
      }
    },
    {
      "cell_type": "code",
      "source": [
        "df3.to_csv()"
      ],
      "metadata": {
        "id": "kzsL_8Kr9XVa"
      },
      "execution_count": null,
      "outputs": []
    },
    {
      "cell_type": "markdown",
      "source": [
        "#### Chart - 6"
      ],
      "metadata": {
        "id": "OH-pJp9IphqM"
      }
    },
    {
      "cell_type": "markdown",
      "source": [
        "##### 1. Why did you pick the specific chart?"
      ],
      "metadata": {
        "id": "bbFf2-_FphqN"
      }
    },
    {
      "cell_type": "markdown",
      "source": [
        "Answer Here."
      ],
      "metadata": {
        "id": "loh7H2nzphqN"
      }
    },
    {
      "cell_type": "markdown",
      "source": [
        "##### 2. What is/are the insight(s) found from the chart?"
      ],
      "metadata": {
        "id": "_ouA3fa0phqN"
      }
    },
    {
      "cell_type": "markdown",
      "source": [
        "Answer Here"
      ],
      "metadata": {
        "id": "VECbqPI7phqN"
      }
    },
    {
      "cell_type": "markdown",
      "source": [
        "##### 3. Will the gained insights help creating a positive business impact?\n",
        "Are there any insights that lead to negative growth? Justify with specific reason."
      ],
      "metadata": {
        "id": "Seke61FWphqN"
      }
    },
    {
      "cell_type": "markdown",
      "source": [
        "Answer Here"
      ],
      "metadata": {
        "id": "DW4_bGpfphqN"
      }
    },
    {
      "cell_type": "markdown",
      "source": [
        "#### Chart - 7"
      ],
      "metadata": {
        "id": "PIIx-8_IphqN"
      }
    },
    {
      "cell_type": "code",
      "source": [
        "# Chart - 7 visualization code"
      ],
      "metadata": {
        "id": "lqAIGUfyphqO"
      },
      "execution_count": null,
      "outputs": []
    },
    {
      "cell_type": "markdown",
      "source": [
        "##### 1. Why did you pick the specific chart?"
      ],
      "metadata": {
        "id": "t27r6nlMphqO"
      }
    },
    {
      "cell_type": "markdown",
      "source": [
        "Answer Here."
      ],
      "metadata": {
        "id": "iv6ro40sphqO"
      }
    },
    {
      "cell_type": "markdown",
      "source": [
        "##### 2. What is/are the insight(s) found from the chart?"
      ],
      "metadata": {
        "id": "r2jJGEOYphqO"
      }
    },
    {
      "cell_type": "markdown",
      "source": [
        "Answer Here"
      ],
      "metadata": {
        "id": "Po6ZPi4hphqO"
      }
    },
    {
      "cell_type": "markdown",
      "source": [
        "##### 3. Will the gained insights help creating a positive business impact?\n",
        "Are there any insights that lead to negative growth? Justify with specific reason."
      ],
      "metadata": {
        "id": "b0JNsNcRphqO"
      }
    },
    {
      "cell_type": "markdown",
      "source": [
        "Answer Here"
      ],
      "metadata": {
        "id": "xvSq8iUTphqO"
      }
    },
    {
      "cell_type": "markdown",
      "source": [
        "#### Chart - 8"
      ],
      "metadata": {
        "id": "BZR9WyysphqO"
      }
    },
    {
      "cell_type": "code",
      "source": [
        "# Chart - 8 visualization code"
      ],
      "metadata": {
        "id": "TdPTWpAVphqO"
      },
      "execution_count": null,
      "outputs": []
    },
    {
      "cell_type": "markdown",
      "source": [
        "##### 1. Why did you pick the specific chart?"
      ],
      "metadata": {
        "id": "jj7wYXLtphqO"
      }
    },
    {
      "cell_type": "markdown",
      "source": [
        "Answer Here."
      ],
      "metadata": {
        "id": "Ob8u6rCTphqO"
      }
    },
    {
      "cell_type": "markdown",
      "source": [
        "##### 2. What is/are the insight(s) found from the chart?"
      ],
      "metadata": {
        "id": "eZrbJ2SmphqO"
      }
    },
    {
      "cell_type": "markdown",
      "source": [
        "Answer Here"
      ],
      "metadata": {
        "id": "mZtgC_hjphqO"
      }
    },
    {
      "cell_type": "markdown",
      "source": [
        "##### 3. Will the gained insights help creating a positive business impact?\n",
        "Are there any insights that lead to negative growth? Justify with specific reason."
      ],
      "metadata": {
        "id": "rFu4xreNphqO"
      }
    },
    {
      "cell_type": "markdown",
      "source": [
        "Answer Here"
      ],
      "metadata": {
        "id": "ey_0qi68phqO"
      }
    },
    {
      "cell_type": "markdown",
      "source": [
        "#### Chart - 9"
      ],
      "metadata": {
        "id": "YJ55k-q6phqO"
      }
    },
    {
      "cell_type": "code",
      "source": [
        "# Chart - 9 visualization code"
      ],
      "metadata": {
        "id": "B2aS4O1ophqO"
      },
      "execution_count": null,
      "outputs": []
    },
    {
      "cell_type": "markdown",
      "source": [
        "##### 1. Why did you pick the specific chart?"
      ],
      "metadata": {
        "id": "gCFgpxoyphqP"
      }
    },
    {
      "cell_type": "markdown",
      "source": [
        "Answer Here."
      ],
      "metadata": {
        "id": "TVxDimi2phqP"
      }
    },
    {
      "cell_type": "markdown",
      "source": [
        "##### 2. What is/are the insight(s) found from the chart?"
      ],
      "metadata": {
        "id": "OVtJsKN_phqQ"
      }
    },
    {
      "cell_type": "markdown",
      "source": [
        "Answer Here"
      ],
      "metadata": {
        "id": "ngGi97qjphqQ"
      }
    },
    {
      "cell_type": "markdown",
      "source": [
        "##### 3. Will the gained insights help creating a positive business impact?\n",
        "Are there any insights that lead to negative growth? Justify with specific reason."
      ],
      "metadata": {
        "id": "lssrdh5qphqQ"
      }
    },
    {
      "cell_type": "markdown",
      "source": [
        "Answer Here"
      ],
      "metadata": {
        "id": "tBpY5ekJphqQ"
      }
    },
    {
      "cell_type": "markdown",
      "source": [
        "#### Chart - 10"
      ],
      "metadata": {
        "id": "U2RJ9gkRphqQ"
      }
    },
    {
      "cell_type": "code",
      "source": [
        "# Chart - 10 visualization code"
      ],
      "metadata": {
        "id": "GM7a4YP4phqQ"
      },
      "execution_count": null,
      "outputs": []
    },
    {
      "cell_type": "markdown",
      "source": [
        "##### 1. Why did you pick the specific chart?"
      ],
      "metadata": {
        "id": "1M8mcRywphqQ"
      }
    },
    {
      "cell_type": "markdown",
      "source": [
        "Answer Here."
      ],
      "metadata": {
        "id": "8agQvks0phqQ"
      }
    },
    {
      "cell_type": "markdown",
      "source": [
        "##### 2. What is/are the insight(s) found from the chart?"
      ],
      "metadata": {
        "id": "tgIPom80phqQ"
      }
    },
    {
      "cell_type": "markdown",
      "source": [
        "Answer Here"
      ],
      "metadata": {
        "id": "Qp13pnNzphqQ"
      }
    },
    {
      "cell_type": "markdown",
      "source": [
        "##### 3. Will the gained insights help creating a positive business impact?\n",
        "Are there any insights that lead to negative growth? Justify with specific reason."
      ],
      "metadata": {
        "id": "JMzcOPDDphqR"
      }
    },
    {
      "cell_type": "markdown",
      "source": [
        "Answer Here"
      ],
      "metadata": {
        "id": "R4Ka1PC2phqR"
      }
    },
    {
      "cell_type": "markdown",
      "source": [
        "#### Chart - 11"
      ],
      "metadata": {
        "id": "x-EpHcCOp1ci"
      }
    },
    {
      "cell_type": "code",
      "source": [
        "# Chart - 11 visualization code"
      ],
      "metadata": {
        "id": "mAQTIvtqp1cj"
      },
      "execution_count": null,
      "outputs": []
    },
    {
      "cell_type": "markdown",
      "source": [
        "##### 1. Why did you pick the specific chart?"
      ],
      "metadata": {
        "id": "X_VqEhTip1ck"
      }
    },
    {
      "cell_type": "markdown",
      "source": [
        "Answer Here."
      ],
      "metadata": {
        "id": "-vsMzt_np1ck"
      }
    },
    {
      "cell_type": "markdown",
      "source": [
        "##### 2. What is/are the insight(s) found from the chart?"
      ],
      "metadata": {
        "id": "8zGJKyg5p1ck"
      }
    },
    {
      "cell_type": "markdown",
      "source": [
        "Answer Here"
      ],
      "metadata": {
        "id": "ZYdMsrqVp1ck"
      }
    },
    {
      "cell_type": "markdown",
      "source": [
        "##### 3. Will the gained insights help creating a positive business impact?\n",
        "Are there any insights that lead to negative growth? Justify with specific reason."
      ],
      "metadata": {
        "id": "PVzmfK_Ep1ck"
      }
    },
    {
      "cell_type": "markdown",
      "source": [
        "Answer Here"
      ],
      "metadata": {
        "id": "druuKYZpp1ck"
      }
    },
    {
      "cell_type": "markdown",
      "source": [
        "#### Chart - 12"
      ],
      "metadata": {
        "id": "n3dbpmDWp1ck"
      }
    },
    {
      "cell_type": "code",
      "source": [
        "# Chart - 12 visualization code"
      ],
      "metadata": {
        "id": "bwevp1tKp1ck"
      },
      "execution_count": null,
      "outputs": []
    },
    {
      "cell_type": "markdown",
      "source": [
        "##### 1. Why did you pick the specific chart?"
      ],
      "metadata": {
        "id": "ylSl6qgtp1ck"
      }
    },
    {
      "cell_type": "markdown",
      "source": [
        "Answer Here."
      ],
      "metadata": {
        "id": "m2xqNkiQp1ck"
      }
    },
    {
      "cell_type": "markdown",
      "source": [
        "##### 2. What is/are the insight(s) found from the chart?"
      ],
      "metadata": {
        "id": "ZWILFDl5p1ck"
      }
    },
    {
      "cell_type": "markdown",
      "source": [
        "Answer Here"
      ],
      "metadata": {
        "id": "x-lUsV2mp1ck"
      }
    },
    {
      "cell_type": "markdown",
      "source": [
        "##### 3. Will the gained insights help creating a positive business impact?\n",
        "Are there any insights that lead to negative growth? Justify with specific reason."
      ],
      "metadata": {
        "id": "M7G43BXep1ck"
      }
    },
    {
      "cell_type": "markdown",
      "source": [
        "Answer Here"
      ],
      "metadata": {
        "id": "5wwDJXsLp1cl"
      }
    },
    {
      "cell_type": "markdown",
      "source": [
        "#### Chart - 13"
      ],
      "metadata": {
        "id": "Ag9LCva-p1cl"
      }
    },
    {
      "cell_type": "code",
      "source": [
        "# Chart - 13 visualization code"
      ],
      "metadata": {
        "id": "EUfxeq9-p1cl"
      },
      "execution_count": null,
      "outputs": []
    },
    {
      "cell_type": "markdown",
      "source": [
        "##### 1. Why did you pick the specific chart?"
      ],
      "metadata": {
        "id": "E6MkPsBcp1cl"
      }
    },
    {
      "cell_type": "markdown",
      "source": [
        "Answer Here."
      ],
      "metadata": {
        "id": "V22bRsFWp1cl"
      }
    },
    {
      "cell_type": "markdown",
      "source": [
        "##### 2. What is/are the insight(s) found from the chart?"
      ],
      "metadata": {
        "id": "2cELzS2fp1cl"
      }
    },
    {
      "cell_type": "markdown",
      "source": [
        "Answer Here"
      ],
      "metadata": {
        "id": "ozQPc2_Ip1cl"
      }
    },
    {
      "cell_type": "markdown",
      "source": [
        "##### 3. Will the gained insights help creating a positive business impact?\n",
        "Are there any insights that lead to negative growth? Justify with specific reason."
      ],
      "metadata": {
        "id": "3MPXvC8up1cl"
      }
    },
    {
      "cell_type": "markdown",
      "source": [
        "Answer Here"
      ],
      "metadata": {
        "id": "GL8l1tdLp1cl"
      }
    },
    {
      "cell_type": "markdown",
      "source": [
        "#### Chart - 14 - Correlation Heatmap"
      ],
      "metadata": {
        "id": "NC_X3p0fY2L0"
      }
    },
    {
      "cell_type": "code",
      "source": [
        "# Select only numerical columns for the correlation matrix\n",
        "numerical_df3 = df3.select_dtypes(include=['number'])\n",
        "\n",
        "# Calculate the correlation matrix\n",
        "corr = numerical_df3.corr()\n",
        "\n",
        "# Generate a heatmap\n",
        "plt.figure(figsize=(10, 8))\n",
        "sns.heatmap(corr, annot=True, fmt=\".2f\", cmap='coolwarm', linewidths=0.5)\n",
        "plt.title('Correlation Heatmap for Play Store App Data (Numerical Variables)')\n",
        "plt.show()"
      ],
      "metadata": {
        "id": "oeAd523V-U_K"
      },
      "execution_count": null,
      "outputs": []
    },
    {
      "cell_type": "markdown",
      "source": [
        "##### 1. Why did you pick the specific chart?"
      ],
      "metadata": {
        "id": "UV0SzAkaZNRQ"
      }
    },
    {
      "cell_type": "markdown",
      "source": [
        "A correlation map helps in identifying the relationships between different numerical variables in the Play Store dataset, such as ratings, number of installs, app size, and number of reviews."
      ],
      "metadata": {
        "id": "DVPuT8LYZNRQ"
      }
    },
    {
      "cell_type": "markdown",
      "source": [
        "##### 2. What is/are the insight(s) found from the chart?"
      ],
      "metadata": {
        "id": "YPEH6qLeZNRQ"
      }
    },
    {
      "cell_type": "markdown",
      "source": [
        "Here are some specific examples of correlations you can see from this heatmap:\n",
        "\n",
        "1.Rating and Installs: There is a moderate positive correlation (0.25) between rating and installs, which means that apps with higher ratings tend to have more installs as well\n",
        "\n",
        "2.Installs and Last Updated Day: There is a moderate negative correlation (-0.34) between installs and Last Updated Day. This could mean that apps that are more frequently updated tend to have little more installs(not very significantly high).\n",
        "\n",
        "3.Sentiment_Polarity and Sentiment_Subjectivity: There is a very weak positive correlation (0.01) between Sentiment_Polarity and Sentiment_Subjectivity, which means there is almost no relationship between these two features."
      ],
      "metadata": {
        "id": "bfSqtnDqZNRR"
      }
    },
    {
      "cell_type": "markdown",
      "source": [
        "#### Chart - 15 - Pair Plot\n",
        "import seaborn\n",
        "seaborn.pairplot(df3)\n",
        "plt.show()"
      ],
      "metadata": {
        "id": "q29F0dvdveiT"
      }
    },
    {
      "cell_type": "code",
      "source": [
        "import seaborn\n",
        "seaborn.pairplot(df3)\n",
        "plt.show()"
      ],
      "metadata": {
        "id": "Utge8Qk-QUla"
      },
      "execution_count": null,
      "outputs": []
    },
    {
      "cell_type": "markdown",
      "source": [
        "##### 1. Why did you pick the specific chart?"
      ],
      "metadata": {
        "id": "EXh0U9oCveiU"
      }
    },
    {
      "cell_type": "markdown",
      "source": [
        "I have choosen pair plot here ,\n",
        "1.Because pair plots are  powerful tool which provide a rich, visual summary of the dataset, enabling analysts to quickly and effectively understand complex relationships and distributions in the data in a single page.\n",
        "\n",
        "2.  It provides a comprehensive view of how variables interact with one another.It helps in visualizing the relationships between multiple pairs of variables at once.\n",
        "\n",
        "3.Pair plots can help identify linear and non-linear correlations between variables. Strong relationships will be easily visible, which can guide further statistical analysis or feature selection.\n",
        "\n",
        "4.By looking at pairwise relationships, one can start to see multivariate patterns and interactions, which are crucial for building predictive models.\n",
        "\n"
      ],
      "metadata": {
        "id": "eMmPjTByveiU"
      }
    },
    {
      "cell_type": "markdown",
      "source": [
        "##### 2. What is/are the insight(s) found from the chart?"
      ],
      "metadata": {
        "id": "22aHeOlLveiV"
      }
    },
    {
      "cell_type": "markdown",
      "source": [
        "The major insights drawn can be as follows\n",
        "\n",
        "1.Sentiment Polarity vs. Sentiment Subjectivity:\n",
        "\n",
        "We can see a positive correlation between sentiment polarity and sentiment subjectivity. This means that more subjective reviews tend to be more polarized (either very positive or very negative).\n",
        "\n",
        "2.Sentiment subjectivity vs last updated month\n",
        " Its a very typical pair plot structure,where the pattern is vertical alignment which means that for a given value on the x-axis(last updated month), there are several corresponding values on the y-axis(sentiment subjectivity). This could mean that for a particular month, there are various sentiment subjectivtiy\n",
        "\n",
        " 3.Rating vs. Installs:\n",
        "\n",
        "It seems there is no linear relationship between app ratings and the number of installs. Apps with a wide range of installs have similar ratings.\n",
        "\n",
        "4.Rating vs sentiment polarity\n",
        "Horizontal alignment indicates that for a given value on the y-axis(rating), there are several corresponding values on the x-axis(sentiment polarity). This could mean that for a particular rating, there are various sentiment ratings\n",
        "\n",
        "\n",
        "5.Installs Distribution:\n",
        "\n",
        "The installs variable shows a significant spread with several outliers, indicating that while most apps have a lower number of installs, a few apps have been installed very many times.\n",
        "\n",
        "6.Last Updated Month and Day:\n",
        "\n",
        "The last updated month and day variables shows a non uniform distribution across months or days, with certain periods having more frequent updates.\n"
      ],
      "metadata": {
        "id": "uPQ8RGwHveiV"
      }
    },
    {
      "cell_type": "markdown",
      "source": [
        "## **5. Solution to Business Objective**"
      ],
      "metadata": {
        "id": "JcMwzZxoAimU"
      }
    },
    {
      "cell_type": "markdown",
      "source": [
        "#### What do you suggest the client to achieve Business Objective ?\n",
        "Explain Briefly."
      ],
      "metadata": {
        "id": "8G2x9gOozGDZ"
      }
    },
    {
      "cell_type": "markdown",
      "source": [
        "With The analysis done from the data set I can suggest the client the following\n",
        "\n",
        "ChatGPT\n",
        "Analyzing a Google Play Store dataset can provide valuable insights for a client looking to grow their business. Here are some key areas of analysis and corresponding suggestions:\n",
        "\n",
        "\n",
        "1. User Ratings and Reviews\n",
        "Analysis:\n",
        "\n",
        "Analyze average user ratings and the number of reviews for each app.\n",
        "Identify common themes in user feedback (e.g., feature requests, bug reports).\n",
        "Suggestions:\n",
        "\n",
        "To Improve User Experience by  fixing issues and adding features that users frequently mention in reviews to improve overall ratings.\n",
        "Engage with Users: Respond to user reviews to build a positive relationship and show that the company values feedback.\n",
        "\n",
        "Enhance User Engagement by push notifications,regular updates(unlike the current update pattern), loyalty programe and content personalisation\n",
        "\n",
        "Improving App rating by Responding to Reviews (specially negative reviews),introducing In-App Feedback Mechanism.\n",
        "\n",
        "2.Increasing App installs by optimizing App Store Listing,highlighting positive reviews,implementing refferal programs.\n",
        "\n",
        "3. By Identifying Trends Look  in user feedback related to specific updates or features. This can help identify what is working well and what needs improvement.\n",
        "\n",
        "4. Identifying the lowest popular category and comparing its' features with the highest popular category and trying to bring similar kind of potential improvements in the lowest popular category.\n"
      ],
      "metadata": {
        "id": "pASKb0qOza21"
      }
    },
    {
      "cell_type": "markdown",
      "source": [
        "# **Conclusion**"
      ],
      "metadata": {
        "id": "gCX9965dhzqZ"
      }
    },
    {
      "cell_type": "markdown",
      "source": [
        "Write the conclusion here."
      ],
      "metadata": {
        "id": "Fjb1IsQkh3yE"
      }
    },
    {
      "cell_type": "markdown",
      "source": [
        "### ***Hurrah! You have successfully completed your EDA Capstone Project !!!***"
      ],
      "metadata": {
        "id": "gIfDvo9L0UH2"
      }
    }
  ]
}